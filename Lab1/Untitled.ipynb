{
 "cells": [
  {
   "cell_type": "markdown",
   "id": "fd0133c5",
   "metadata": {},
   "source": [
    "# <div align=\"center\"> Oskar Borkowski <div align=\"center\"> Lab 1    \n",
    "\n",
    "    \n",
    "## Zadanie 2\n",
    "Moje repozytorium na przedmiot [AiBD](https://github.com/Loren8008/AiBD)"
   ]
  },
  {
   "cell_type": "markdown",
   "id": "45995a9d",
   "metadata": {},
   "source": [
    "## Zadanie 3\n",
    "Należy narysować oraz opisać wykres funkcji $f(x) = x^2+5$ dla 3 przedziałów wartości."
   ]
  },
  {
   "cell_type": "code",
   "execution_count": null,
   "id": "4ecdb66f",
   "metadata": {},
   "outputs": [],
   "source": [
    "import numpy as np\n",
    "import matplotlib\n",
    "import matplotlib.pyplot as plt\n",
    "\n",
    "def show_img(image, title = \"\", label = \"\", shape = \"\"):\n",
    "    plt.plot(image[0], image[1], shape, label = label)\n",
    "    plt.title(title)\n",
    "    plt.xlabel(\"X\")\n",
    "    plt.ylabel(\"Y\")\n",
    "    plt.grid()\n",
    "\n",
    "def test_function(x): #stworzenie definicji funkcji w celu ułatwienia wyliczania wektora wyjściowego\n",
    "    return (x**2 + 5)\n",
    "\n",
    "x1_vec = np.linspace(-0.99, 0.99, num = 199) #stworzenie wektora wartości x z zadanego przedziału\n",
    "y1_vec = test_function(x1_vec)\n",
    "start, stop = -5.99, 5.99\n",
    "x2_vec = np.linspace(start, stop, num = int((stop-start)*100 + 1))\n",
    "y2_vec = test_function(x2_vec)\n",
    "start, stop = 0.01, 4.49\n",
    "x3_vec = np.linspace(start, stop, num = int((stop-start)*100 + 1))\n",
    "y3_vec = test_function(x3_vec)\n",
    "\n",
    "#plt.plot(x1_vec, y1_vec)\n",
    "#plt.plot(x2_vec, y2_vec)\n",
    "#plt.plot(x3_vec, y3_vec)\n",
    "show_img([x1_vec, y1_vec], \"F(x)=x^2 + 5\", \"-1 < x < 1\", \"rx\") #wyświetlenie wykresu wraz z zmianą wyświetlania punktów\n",
    "show_img([x2_vec, y2_vec], \"F(x)=x^2 + 5\", \"-6 < x < 6\")\n",
    "show_img([x3_vec, y3_vec], \"F(x)=x^2 + 5\", \"0 < x < 5\")\n",
    "plt.legend()\n",
    "plt.show()"
   ]
  },
  {
   "cell_type": "markdown",
   "id": "d169b426",
   "metadata": {},
   "source": [
    "   \n",
    "## Zadanie 4\n",
    "Utworzyć dataframe w którym zostaną dodane wpisy o kategoriach: imie, nazwisko, wiek oraz płeć. Skorzystać `pandas.info`, `pandas.describe` oraz `pandas.head`"
   ]
  },
  {
   "cell_type": "code",
   "execution_count": null,
   "id": "f1ba6437",
   "metadata": {},
   "outputs": [],
   "source": [
    "import pandas as pd\n",
    "example_data = {\"Name\": [\"Andrzej\", \"Bartosz\", \"Celina\", \"Dominik\", \"Eliza\"], #przygotowanie danych do dataframe\n",
    "         \"Surname\": [\"Fąfara\", \"Galicz\", \"Holszan\", \"Iwanowic\", \"Japowicz\"], \n",
    "         \"Age\": [43, 25, 18, 54, 32], \"Sex\": [\"male\", \"male\", \"female\", \"male\", \"female\"]}\n",
    "dataframe = pd.DataFrame(data = example_data) #konwerjsa z formatu json\n",
    "\n",
    "dataframe.info() #wyświetlenie ogólnych informacjo o dataframe"
   ]
  },
  {
   "cell_type": "code",
   "execution_count": null,
   "id": "8ea18eaa",
   "metadata": {},
   "outputs": [],
   "source": [
    "dataframe.describe() #wyświetlenie statystyk dafaframe (w tym średnia, oraz standardowe odchylenie wartości liczbowych)"
   ]
  },
  {
   "cell_type": "code",
   "execution_count": null,
   "id": "b2d30636",
   "metadata": {
    "scrolled": true
   },
   "outputs": [],
   "source": [
    "dataframe.head(n = 3) #wyświetlenie 3 początkowych rekordów"
   ]
  },
  {
   "cell_type": "code",
   "execution_count": null,
   "id": "a4e15a2f",
   "metadata": {},
   "outputs": [],
   "source": []
  }
 ],
 "metadata": {
  "kernelspec": {
   "display_name": "Python 3 (ipykernel)",
   "language": "python",
   "name": "python3"
  },
  "language_info": {
   "codemirror_mode": {
    "name": "ipython",
    "version": 3
   },
   "file_extension": ".py",
   "mimetype": "text/x-python",
   "name": "python",
   "nbconvert_exporter": "python",
   "pygments_lexer": "ipython3",
   "version": "3.10.6"
  }
 },
 "nbformat": 4,
 "nbformat_minor": 5
}
